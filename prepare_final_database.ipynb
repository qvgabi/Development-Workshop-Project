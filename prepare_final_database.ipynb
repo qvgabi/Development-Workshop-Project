{
 "cells": [
  {
   "cell_type": "code",
   "execution_count": 123,
   "id": "699c6658-5a95-46f0-8eaf-0f0b0c622209",
   "metadata": {},
   "outputs": [],
   "source": [
    "import json\n",
    "import numpy as np\n",
    "import pandas as pd"
   ]
  },
  {
   "cell_type": "code",
   "execution_count": 124,
   "id": "b99990bf-b575-4d4f-9a0e-3b86cddf5953",
   "metadata": {},
   "outputs": [],
   "source": [
    "nutrients = pd.read_csv('data/nutrients_clean.csv')\n",
    "n_list = np.array(nutrients['name clean'].to_list())"
   ]
  },
  {
   "cell_type": "code",
   "execution_count": 125,
   "id": "7b957149-3436-430f-b604-d5b12f9cd21e",
   "metadata": {},
   "outputs": [],
   "source": [
    "f = open('data/recipes_with_mass.json')\n",
    "recipes = json.load(f)"
   ]
  },
  {
   "cell_type": "code",
   "execution_count": 126,
   "id": "abe2a5ef-85ec-4839-ae99-e888384e5de2",
   "metadata": {},
   "outputs": [],
   "source": [
    "ingridients_from_recipes = np.array([e['name'] for recipe in recipes for e in recipe['ingridients']]).flatten()"
   ]
  },
  {
   "cell_type": "code",
   "execution_count": 127,
   "id": "f5310d60-00ee-4694-a250-197b60a7c35c",
   "metadata": {},
   "outputs": [],
   "source": [
    "f2 = open('matched_names.json')\n",
    "matched = json.load(f2)"
   ]
  },
  {
   "cell_type": "code",
   "execution_count": 128,
   "id": "762d322b-7ce5-4fd4-b274-ec59eacd54f0",
   "metadata": {},
   "outputs": [],
   "source": [
    "for recipe in recipes:\n",
    "    for e in recipe['ingridients']:\n",
    "        name = e['name']\n",
    "        match = matched[e['name']]\n",
    "        if match!='':\n",
    "            e['name'] = match"
   ]
  },
  {
   "cell_type": "code",
   "execution_count": 129,
   "id": "d495f903-112d-48f1-9065-03101a2e998e",
   "metadata": {},
   "outputs": [],
   "source": [
    "with open('data/recipes_clean.json', 'w') as outfile:\n",
    "    json.dump(recipes, outfile)"
   ]
  },
  {
   "cell_type": "code",
   "execution_count": 130,
   "id": "8a582e3a-6a62-4e99-bb87-8f37336b9f4d",
   "metadata": {},
   "outputs": [],
   "source": [
    "f = open('data/recipes_clean.json')\n",
    "recipes2 = json.load(f)"
   ]
  },
  {
   "cell_type": "code",
   "execution_count": 131,
   "id": "9ccf8f68-bcf3-40f6-b5bc-a6ca5dbbbab6",
   "metadata": {},
   "outputs": [],
   "source": [
    "ingridients_from_recipes2 = np.array([e['name'] for recipe in recipes for e in recipe['ingridients']]).flatten()"
   ]
  },
  {
   "cell_type": "code",
   "execution_count": 132,
   "id": "2a2d640a-d057-4690-8f03-f52af4b0cfaf",
   "metadata": {},
   "outputs": [
    {
     "data": {
      "text/plain": [
       "1441"
      ]
     },
     "execution_count": 132,
     "metadata": {},
     "output_type": "execute_result"
    }
   ],
   "source": [
    "len(np.intersect1d(np.unique(n_list), np.unique(ingridients_from_recipes2)))"
   ]
  },
  {
   "cell_type": "code",
   "execution_count": 133,
   "id": "800bef51-c845-4e2b-b45b-130e4f6992b3",
   "metadata": {},
   "outputs": [],
   "source": [
    "nutrients.rename(columns = {'name clean':'name'}, inplace = True)\n",
    "nutrients_dict = nutrients.to_dict(orient=\"index\")"
   ]
  },
  {
   "cell_type": "code",
   "execution_count": 134,
   "id": "819c0091-b5d8-4b57-9809-82729afd77e0",
   "metadata": {},
   "outputs": [],
   "source": [
    "import ast\n",
    "\n",
    "for key, value in nutrients_dict.items():\n",
    "    value['Protein'] = ast.literal_eval(value['Protein'])\n",
    "    value['Energy'] = ast.literal_eval(value['Energy'])\n",
    "    value['Carbohydrate, by difference'] = ast.literal_eval(value['Carbohydrate, by difference'])\n",
    "    value['Total lipid (fat)'] = ast.literal_eval(value['Total lipid (fat)'])\n",
    "    value['foodPortions'] = ast.literal_eval(value['foodPortions'])"
   ]
  },
  {
   "cell_type": "code",
   "execution_count": 135,
   "id": "cfbc2887-ed39-4147-8f38-3e86517b22ec",
   "metadata": {},
   "outputs": [],
   "source": [
    "with open('data/nutrients_clean.json', 'w') as outfile:\n",
    "    json.dump(nutrients_dict, outfile)"
   ]
  },
  {
   "cell_type": "code",
   "execution_count": null,
   "id": "6798e95b-bde5-4b84-acf4-4ba907daf9b0",
   "metadata": {},
   "outputs": [],
   "source": []
  }
 ],
 "metadata": {
  "kernelspec": {
   "display_name": "Python 3 (ipykernel)",
   "language": "python",
   "name": "python3"
  },
  "language_info": {
   "codemirror_mode": {
    "name": "ipython",
    "version": 3
   },
   "file_extension": ".py",
   "mimetype": "text/x-python",
   "name": "python",
   "nbconvert_exporter": "python",
   "pygments_lexer": "ipython3",
   "version": "3.10.5"
  }
 },
 "nbformat": 4,
 "nbformat_minor": 5
}
