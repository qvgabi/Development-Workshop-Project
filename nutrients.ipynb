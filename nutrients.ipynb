{
 "cells": [
  {
   "cell_type": "code",
   "execution_count": 1,
   "id": "422ac6a3-3aea-4440-8344-d131ecc58569",
   "metadata": {},
   "outputs": [],
   "source": [
    "import json\n",
    "f = open('FoodData_Central_survey_food_json_2021-10-28.json')\n",
    "data = json.load(f)"
   ]
  },
  {
   "cell_type": "code",
   "execution_count": 2,
   "id": "97fa08b0-8c57-4742-ac04-a8f5b1ac6c00",
   "metadata": {},
   "outputs": [],
   "source": [
    "data_tab = data['SurveyFoods']"
   ]
  },
  {
   "cell_type": "code",
   "execution_count": 3,
   "id": "e40eedf6-3b79-45b9-8373-aaeaeecde4b9",
   "metadata": {},
   "outputs": [],
   "source": [
    "import pandas as pd\n",
    "                                       "
   ]
  },
  {
   "cell_type": "code",
   "execution_count": 10,
   "id": "edfb24f5-8921-4390-890a-c9902c282f3c",
   "metadata": {},
   "outputs": [],
   "source": [
    "df = pd.DataFrame(columns=['name','Protein', 'Energy','Carbohydrate, by difference','Total lipid (fat)', 'foodPortions'])\n",
    "my_dict = {}\n",
    "\n",
    "for i, e in enumerate(data_tab):\n",
    "\n",
    "    name = e['description']\n",
    "    nutrients = e['foodNutrients']\n",
    "    food_portion = e['foodPortions']\n",
    "    \n",
    "    foodPortions = []\n",
    "    \n",
    "    for elem in food_portion:\n",
    "        foodPortions.append({'gramWeight': elem['gramWeight'], 'portionDescription': elem['portionDescription']})\n",
    "        \n",
    "    \n",
    "    df.loc[i] = {'name': name, 'Protein': \n",
    "                 {'Amount': nutrients[0]['amount'],'unit': nutrients[0]['nutrient']['unitName']},\n",
    "                    'Total lipid (fat)': \n",
    "                 {'Amount': nutrients[1]['amount'],'unit': nutrients[1]['nutrient']['unitName']},\n",
    "                    'Carbohydrate, by difference': \n",
    "                 {'Amount': nutrients[2]['amount'],'unit': nutrients[2]['nutrient']['unitName']},\n",
    "                    'Energy': \n",
    "                 {'Amount': nutrients[3]['amount'],'unit': nutrients[3]['nutrient']['unitName']},\n",
    "                'foodPortions': foodPortions}\n",
    "    \n",
    "    # break\n",
    "    \n",
    "\n",
    "\n",
    "df = df[['name','Protein', 'Energy','Carbohydrate, by difference','Total lipid (fat)', 'foodPortions']]\n",
    "df.to_csv('nutrients.csv', index=False) "
   ]
  },
  {
   "cell_type": "code",
   "execution_count": null,
   "id": "0588e526-313b-4a14-ab7c-6b1d88135b83",
   "metadata": {},
   "outputs": [],
   "source": []
  }
 ],
 "metadata": {
  "kernelspec": {
   "display_name": "Python 3 (ipykernel)",
   "language": "python",
   "name": "python3"
  },
  "language_info": {
   "codemirror_mode": {
    "name": "ipython",
    "version": 3
   },
   "file_extension": ".py",
   "mimetype": "text/x-python",
   "name": "python",
   "nbconvert_exporter": "python",
   "pygments_lexer": "ipython3",
   "version": "3.10.5"
  }
 },
 "nbformat": 4,
 "nbformat_minor": 5
}
