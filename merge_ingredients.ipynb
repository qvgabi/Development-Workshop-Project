{
 "cells": [
  {
   "cell_type": "code",
   "execution_count": 1,
   "id": "b2c211cd-cae0-4872-a911-04d171265cff",
   "metadata": {},
   "outputs": [],
   "source": [
    "import json\n",
    "import numpy as np"
   ]
  },
  {
   "cell_type": "code",
   "execution_count": 18,
   "id": "af6b0dcc-30be-4175-b1a5-a6832b9edd12",
   "metadata": {},
   "outputs": [
    {
     "data": {
      "text/html": [
       "<div>\n",
       "<style scoped>\n",
       "    .dataframe tbody tr th:only-of-type {\n",
       "        vertical-align: middle;\n",
       "    }\n",
       "\n",
       "    .dataframe tbody tr th {\n",
       "        vertical-align: top;\n",
       "    }\n",
       "\n",
       "    .dataframe thead th {\n",
       "        text-align: right;\n",
       "    }\n",
       "</style>\n",
       "<table border=\"1\" class=\"dataframe\">\n",
       "  <thead>\n",
       "    <tr style=\"text-align: right;\">\n",
       "      <th></th>\n",
       "      <th>name</th>\n",
       "      <th>Protein</th>\n",
       "      <th>Energy</th>\n",
       "      <th>Carbohydrate, by difference</th>\n",
       "      <th>Total lipid (fat)</th>\n",
       "      <th>foodPortions</th>\n",
       "    </tr>\n",
       "  </thead>\n",
       "  <tbody>\n",
       "    <tr>\n",
       "      <th>0</th>\n",
       "      <td>Milk, human</td>\n",
       "      <td>{'Amount': 1.03, 'unit': 'g'}</td>\n",
       "      <td>{'Amount': 70.0, 'unit': 'kcal'}</td>\n",
       "      <td>{'Amount': 6.89, 'unit': 'g'}</td>\n",
       "      <td>{'Amount': 4.38, 'unit': 'g'}</td>\n",
       "      <td>[{'gramWeight': 246, 'portionDescription': '1 ...</td>\n",
       "    </tr>\n",
       "    <tr>\n",
       "      <th>1</th>\n",
       "      <td>Milk, NFS</td>\n",
       "      <td>{'Amount': 3.34, 'unit': 'g'}</td>\n",
       "      <td>{'Amount': 51.0, 'unit': 'kcal'}</td>\n",
       "      <td>{'Amount': 4.87, 'unit': 'g'}</td>\n",
       "      <td>{'Amount': 1.99, 'unit': 'g'}</td>\n",
       "      <td>[{'gramWeight': 244, 'portionDescription': '1 ...</td>\n",
       "    </tr>\n",
       "    <tr>\n",
       "      <th>2</th>\n",
       "      <td>Milk, whole</td>\n",
       "      <td>{'Amount': 3.28, 'unit': 'g'}</td>\n",
       "      <td>{'Amount': 60.0, 'unit': 'kcal'}</td>\n",
       "      <td>{'Amount': 4.67, 'unit': 'g'}</td>\n",
       "      <td>{'Amount': 3.2, 'unit': 'g'}</td>\n",
       "      <td>[{'gramWeight': 244, 'portionDescription': '1 ...</td>\n",
       "    </tr>\n",
       "    <tr>\n",
       "      <th>3</th>\n",
       "      <td>Milk, low sodium, whole</td>\n",
       "      <td>{'Amount': 3.1, 'unit': 'g'}</td>\n",
       "      <td>{'Amount': 61.0, 'unit': 'kcal'}</td>\n",
       "      <td>{'Amount': 4.46, 'unit': 'g'}</td>\n",
       "      <td>{'Amount': 3.46, 'unit': 'g'}</td>\n",
       "      <td>[{'gramWeight': 244, 'portionDescription': '1 ...</td>\n",
       "    </tr>\n",
       "    <tr>\n",
       "      <th>4</th>\n",
       "      <td>Milk, calcium fortified, whole</td>\n",
       "      <td>{'Amount': 3.28, 'unit': 'g'}</td>\n",
       "      <td>{'Amount': 60.0, 'unit': 'kcal'}</td>\n",
       "      <td>{'Amount': 4.67, 'unit': 'g'}</td>\n",
       "      <td>{'Amount': 3.2, 'unit': 'g'}</td>\n",
       "      <td>[{'gramWeight': 244, 'portionDescription': '1 ...</td>\n",
       "    </tr>\n",
       "  </tbody>\n",
       "</table>\n",
       "</div>"
      ],
      "text/plain": [
       "                             name                        Protein  \\\n",
       "0                     Milk, human  {'Amount': 1.03, 'unit': 'g'}   \n",
       "1                       Milk, NFS  {'Amount': 3.34, 'unit': 'g'}   \n",
       "2                     Milk, whole  {'Amount': 3.28, 'unit': 'g'}   \n",
       "3         Milk, low sodium, whole   {'Amount': 3.1, 'unit': 'g'}   \n",
       "4  Milk, calcium fortified, whole  {'Amount': 3.28, 'unit': 'g'}   \n",
       "\n",
       "                             Energy    Carbohydrate, by difference  \\\n",
       "0  {'Amount': 70.0, 'unit': 'kcal'}  {'Amount': 6.89, 'unit': 'g'}   \n",
       "1  {'Amount': 51.0, 'unit': 'kcal'}  {'Amount': 4.87, 'unit': 'g'}   \n",
       "2  {'Amount': 60.0, 'unit': 'kcal'}  {'Amount': 4.67, 'unit': 'g'}   \n",
       "3  {'Amount': 61.0, 'unit': 'kcal'}  {'Amount': 4.46, 'unit': 'g'}   \n",
       "4  {'Amount': 60.0, 'unit': 'kcal'}  {'Amount': 4.67, 'unit': 'g'}   \n",
       "\n",
       "               Total lipid (fat)  \\\n",
       "0  {'Amount': 4.38, 'unit': 'g'}   \n",
       "1  {'Amount': 1.99, 'unit': 'g'}   \n",
       "2   {'Amount': 3.2, 'unit': 'g'}   \n",
       "3  {'Amount': 3.46, 'unit': 'g'}   \n",
       "4   {'Amount': 3.2, 'unit': 'g'}   \n",
       "\n",
       "                                        foodPortions  \n",
       "0  [{'gramWeight': 246, 'portionDescription': '1 ...  \n",
       "1  [{'gramWeight': 244, 'portionDescription': '1 ...  \n",
       "2  [{'gramWeight': 244, 'portionDescription': '1 ...  \n",
       "3  [{'gramWeight': 244, 'portionDescription': '1 ...  \n",
       "4  [{'gramWeight': 244, 'portionDescription': '1 ...  "
      ]
     },
     "execution_count": 18,
     "metadata": {},
     "output_type": "execute_result"
    }
   ],
   "source": [
    "import pandas as pd\n",
    "\n",
    "nutrients = pd.read_csv('nutrients.csv')\n",
    "\n",
    "nutrients.head()"
   ]
  },
  {
   "cell_type": "code",
   "execution_count": 34,
   "id": "490d3f66-5a16-40fa-9a24-0ac11ed6be3b",
   "metadata": {},
   "outputs": [
    {
     "name": "stderr",
     "output_type": "stream",
     "text": [
      "[nltk_data] Downloading package punkt to\n",
      "[nltk_data]     /Users/gabrielamatuszewska/nltk_data...\n",
      "[nltk_data]   Package punkt is already up-to-date!\n",
      "[nltk_data] Downloading package omw-1.4 to\n",
      "[nltk_data]     /Users/gabrielamatuszewska/nltk_data...\n",
      "[nltk_data]   Unzipping corpora/omw-1.4.zip.\n"
     ]
    }
   ],
   "source": [
    "from nltk.tokenize import word_tokenize\n",
    "from nltk.corpus import stopwords, wordnet\n",
    "\n",
    "import nltk\n",
    "\n",
    "import ssl\n",
    "\n",
    "try:\n",
    "    _create_unverified_https_context = ssl._create_unverified_context\n",
    "except AttributeError:\n",
    "    pass\n",
    "else:\n",
    "    ssl._create_default_https_context = _create_unverified_https_context\n",
    "    \n",
    "nltk.download('punkt')\n",
    "nltk.download('omw-1.4')\n",
    "\n",
    "def name_clean(name):\n",
    "    \n",
    "    stop_words = set(stopwords.words(\"english\"))\n",
    "    \n",
    "    name = name.lower().replace(r\",\", \"\").replace(r\"(\", \"\").replace(r\")\", \"\")\n",
    "    cleaned_name = []\n",
    "    \n",
    "    for word in word_tokenize(name):\n",
    "        if word.casefold() not in stop_words:\n",
    "            word_temp = word.casefold()\n",
    "            syns = wordnet.synsets(word_temp, pos = wordnet.NOUN)\n",
    "\n",
    "            for syn in syns:\n",
    "                if 'food' in syn.lexname():\n",
    "                    cleaned_name.append(word)\n",
    "                    break\n",
    "\n",
    "    cleaned_name = \" \".join(cleaned_name)\n",
    "    \n",
    "    return cleaned_name"
   ]
  },
  {
   "cell_type": "code",
   "execution_count": 35,
   "id": "ad6f222d-1040-4322-8ac7-ffdc38205d83",
   "metadata": {},
   "outputs": [],
   "source": [
    "n_list = nutrients['name'].to_list()\n",
    "n_clean = [name_clean(n) for n in n_list]"
   ]
  },
  {
   "cell_type": "code",
   "execution_count": 36,
   "id": "338df330-4e22-40b0-ad72-c862c6f1603e",
   "metadata": {},
   "outputs": [],
   "source": [
    "nutrients[\"name clean\"] = n_clean"
   ]
  },
  {
   "cell_type": "code",
   "execution_count": 37,
   "id": "f3fc4306-ef94-4526-9183-334c0013d76d",
   "metadata": {},
   "outputs": [
    {
     "data": {
      "text/html": [
       "<div>\n",
       "<style scoped>\n",
       "    .dataframe tbody tr th:only-of-type {\n",
       "        vertical-align: middle;\n",
       "    }\n",
       "\n",
       "    .dataframe tbody tr th {\n",
       "        vertical-align: top;\n",
       "    }\n",
       "\n",
       "    .dataframe thead th {\n",
       "        text-align: right;\n",
       "    }\n",
       "</style>\n",
       "<table border=\"1\" class=\"dataframe\">\n",
       "  <thead>\n",
       "    <tr style=\"text-align: right;\">\n",
       "      <th></th>\n",
       "      <th>name</th>\n",
       "      <th>Protein</th>\n",
       "      <th>Energy</th>\n",
       "      <th>Carbohydrate, by difference</th>\n",
       "      <th>Total lipid (fat)</th>\n",
       "      <th>foodPortions</th>\n",
       "      <th>name clean</th>\n",
       "    </tr>\n",
       "  </thead>\n",
       "  <tbody>\n",
       "    <tr>\n",
       "      <th>0</th>\n",
       "      <td>Milk, human</td>\n",
       "      <td>{'Amount': 1.03, 'unit': 'g'}</td>\n",
       "      <td>{'Amount': 70.0, 'unit': 'kcal'}</td>\n",
       "      <td>{'Amount': 6.89, 'unit': 'g'}</td>\n",
       "      <td>{'Amount': 4.38, 'unit': 'g'}</td>\n",
       "      <td>[{'gramWeight': 246, 'portionDescription': '1 ...</td>\n",
       "      <td>milk</td>\n",
       "    </tr>\n",
       "    <tr>\n",
       "      <th>1</th>\n",
       "      <td>Milk, NFS</td>\n",
       "      <td>{'Amount': 3.34, 'unit': 'g'}</td>\n",
       "      <td>{'Amount': 51.0, 'unit': 'kcal'}</td>\n",
       "      <td>{'Amount': 4.87, 'unit': 'g'}</td>\n",
       "      <td>{'Amount': 1.99, 'unit': 'g'}</td>\n",
       "      <td>[{'gramWeight': 244, 'portionDescription': '1 ...</td>\n",
       "      <td>milk</td>\n",
       "    </tr>\n",
       "    <tr>\n",
       "      <th>2</th>\n",
       "      <td>Milk, whole</td>\n",
       "      <td>{'Amount': 3.28, 'unit': 'g'}</td>\n",
       "      <td>{'Amount': 60.0, 'unit': 'kcal'}</td>\n",
       "      <td>{'Amount': 4.67, 'unit': 'g'}</td>\n",
       "      <td>{'Amount': 3.2, 'unit': 'g'}</td>\n",
       "      <td>[{'gramWeight': 244, 'portionDescription': '1 ...</td>\n",
       "      <td>milk</td>\n",
       "    </tr>\n",
       "    <tr>\n",
       "      <th>3</th>\n",
       "      <td>Milk, low sodium, whole</td>\n",
       "      <td>{'Amount': 3.1, 'unit': 'g'}</td>\n",
       "      <td>{'Amount': 61.0, 'unit': 'kcal'}</td>\n",
       "      <td>{'Amount': 4.46, 'unit': 'g'}</td>\n",
       "      <td>{'Amount': 3.46, 'unit': 'g'}</td>\n",
       "      <td>[{'gramWeight': 244, 'portionDescription': '1 ...</td>\n",
       "      <td>milk</td>\n",
       "    </tr>\n",
       "    <tr>\n",
       "      <th>4</th>\n",
       "      <td>Milk, calcium fortified, whole</td>\n",
       "      <td>{'Amount': 3.28, 'unit': 'g'}</td>\n",
       "      <td>{'Amount': 60.0, 'unit': 'kcal'}</td>\n",
       "      <td>{'Amount': 4.67, 'unit': 'g'}</td>\n",
       "      <td>{'Amount': 3.2, 'unit': 'g'}</td>\n",
       "      <td>[{'gramWeight': 244, 'portionDescription': '1 ...</td>\n",
       "      <td>milk</td>\n",
       "    </tr>\n",
       "  </tbody>\n",
       "</table>\n",
       "</div>"
      ],
      "text/plain": [
       "                             name                        Protein  \\\n",
       "0                     Milk, human  {'Amount': 1.03, 'unit': 'g'}   \n",
       "1                       Milk, NFS  {'Amount': 3.34, 'unit': 'g'}   \n",
       "2                     Milk, whole  {'Amount': 3.28, 'unit': 'g'}   \n",
       "3         Milk, low sodium, whole   {'Amount': 3.1, 'unit': 'g'}   \n",
       "4  Milk, calcium fortified, whole  {'Amount': 3.28, 'unit': 'g'}   \n",
       "\n",
       "                             Energy    Carbohydrate, by difference  \\\n",
       "0  {'Amount': 70.0, 'unit': 'kcal'}  {'Amount': 6.89, 'unit': 'g'}   \n",
       "1  {'Amount': 51.0, 'unit': 'kcal'}  {'Amount': 4.87, 'unit': 'g'}   \n",
       "2  {'Amount': 60.0, 'unit': 'kcal'}  {'Amount': 4.67, 'unit': 'g'}   \n",
       "3  {'Amount': 61.0, 'unit': 'kcal'}  {'Amount': 4.46, 'unit': 'g'}   \n",
       "4  {'Amount': 60.0, 'unit': 'kcal'}  {'Amount': 4.67, 'unit': 'g'}   \n",
       "\n",
       "               Total lipid (fat)  \\\n",
       "0  {'Amount': 4.38, 'unit': 'g'}   \n",
       "1  {'Amount': 1.99, 'unit': 'g'}   \n",
       "2   {'Amount': 3.2, 'unit': 'g'}   \n",
       "3  {'Amount': 3.46, 'unit': 'g'}   \n",
       "4   {'Amount': 3.2, 'unit': 'g'}   \n",
       "\n",
       "                                        foodPortions name clean  \n",
       "0  [{'gramWeight': 246, 'portionDescription': '1 ...       milk  \n",
       "1  [{'gramWeight': 244, 'portionDescription': '1 ...       milk  \n",
       "2  [{'gramWeight': 244, 'portionDescription': '1 ...       milk  \n",
       "3  [{'gramWeight': 244, 'portionDescription': '1 ...       milk  \n",
       "4  [{'gramWeight': 244, 'portionDescription': '1 ...       milk  "
      ]
     },
     "execution_count": 37,
     "metadata": {},
     "output_type": "execute_result"
    }
   ],
   "source": [
    "nutrients.head()"
   ]
  },
  {
   "cell_type": "code",
   "execution_count": 42,
   "id": "97b7bd2c-e3f9-4bf6-b99e-2f6ad4e1a43f",
   "metadata": {},
   "outputs": [
    {
     "data": {
      "text/plain": [
       "(7083, 7)"
      ]
     },
     "execution_count": 42,
     "metadata": {},
     "output_type": "execute_result"
    }
   ],
   "source": [
    "nutrients.shape"
   ]
  },
  {
   "cell_type": "code",
   "execution_count": 38,
   "id": "012354c5-4fe3-41ae-8967-6b1d734c941d",
   "metadata": {},
   "outputs": [],
   "source": [
    "nutrients_clean = nutrients.drop_duplicates(subset='name clean', keep=\"first\")"
   ]
  },
  {
   "cell_type": "code",
   "execution_count": 46,
   "id": "03c81dfe-876e-4c1d-80ad-340f87da0102",
   "metadata": {},
   "outputs": [
    {
     "data": {
      "text/html": [
       "<div>\n",
       "<style scoped>\n",
       "    .dataframe tbody tr th:only-of-type {\n",
       "        vertical-align: middle;\n",
       "    }\n",
       "\n",
       "    .dataframe tbody tr th {\n",
       "        vertical-align: top;\n",
       "    }\n",
       "\n",
       "    .dataframe thead th {\n",
       "        text-align: right;\n",
       "    }\n",
       "</style>\n",
       "<table border=\"1\" class=\"dataframe\">\n",
       "  <thead>\n",
       "    <tr style=\"text-align: right;\">\n",
       "      <th></th>\n",
       "      <th>name</th>\n",
       "      <th>Protein</th>\n",
       "      <th>Energy</th>\n",
       "      <th>Carbohydrate, by difference</th>\n",
       "      <th>Total lipid (fat)</th>\n",
       "      <th>foodPortions</th>\n",
       "      <th>name clean</th>\n",
       "    </tr>\n",
       "  </thead>\n",
       "  <tbody>\n",
       "    <tr>\n",
       "      <th>0</th>\n",
       "      <td>Milk, human</td>\n",
       "      <td>{'Amount': 1.03, 'unit': 'g'}</td>\n",
       "      <td>{'Amount': 70.0, 'unit': 'kcal'}</td>\n",
       "      <td>{'Amount': 6.89, 'unit': 'g'}</td>\n",
       "      <td>{'Amount': 4.38, 'unit': 'g'}</td>\n",
       "      <td>[{'gramWeight': 246, 'portionDescription': '1 ...</td>\n",
       "      <td>milk</td>\n",
       "    </tr>\n",
       "    <tr>\n",
       "      <th>16</th>\n",
       "      <td>Buttermilk, fat free (skim)</td>\n",
       "      <td>{'Amount': 3.31, 'unit': 'g'}</td>\n",
       "      <td>{'Amount': 40.0, 'unit': 'kcal'}</td>\n",
       "      <td>{'Amount': 4.79, 'unit': 'g'}</td>\n",
       "      <td>{'Amount': 1.07, 'unit': 'g'}</td>\n",
       "      <td>[{'gramWeight': 244, 'portionDescription': '1 ...</td>\n",
       "      <td>buttermilk</td>\n",
       "    </tr>\n",
       "    <tr>\n",
       "      <th>32</th>\n",
       "      <td>Soy milk</td>\n",
       "      <td>{'Amount': 2.6, 'unit': 'g'}</td>\n",
       "      <td>{'Amount': 43.0, 'unit': 'kcal'}</td>\n",
       "      <td>{'Amount': 4.92, 'unit': 'g'}</td>\n",
       "      <td>{'Amount': 1.47, 'unit': 'g'}</td>\n",
       "      <td>[{'gramWeight': 244, 'portionDescription': '1 ...</td>\n",
       "      <td>soy milk</td>\n",
       "    </tr>\n",
       "    <tr>\n",
       "      <th>35</th>\n",
       "      <td>Soy milk, chocolate</td>\n",
       "      <td>{'Amount': 2.26, 'unit': 'g'}</td>\n",
       "      <td>{'Amount': 63.0, 'unit': 'kcal'}</td>\n",
       "      <td>{'Amount': 9.95, 'unit': 'g'}</td>\n",
       "      <td>{'Amount': 1.53, 'unit': 'g'}</td>\n",
       "      <td>[{'gramWeight': 244, 'portionDescription': '1 ...</td>\n",
       "      <td>soy milk chocolate</td>\n",
       "    </tr>\n",
       "    <tr>\n",
       "      <th>38</th>\n",
       "      <td>Almond milk, sweetened</td>\n",
       "      <td>{'Amount': 0.38, 'unit': 'g'}</td>\n",
       "      <td>{'Amount': 30.0, 'unit': 'kcal'}</td>\n",
       "      <td>{'Amount': 5.24, 'unit': 'g'}</td>\n",
       "      <td>{'Amount': 0.93, 'unit': 'g'}</td>\n",
       "      <td>[{'gramWeight': 244, 'portionDescription': '1 ...</td>\n",
       "      <td>almond milk</td>\n",
       "    </tr>\n",
       "  </tbody>\n",
       "</table>\n",
       "</div>"
      ],
      "text/plain": [
       "                           name                        Protein  \\\n",
       "0                   Milk, human  {'Amount': 1.03, 'unit': 'g'}   \n",
       "16  Buttermilk, fat free (skim)  {'Amount': 3.31, 'unit': 'g'}   \n",
       "32                     Soy milk   {'Amount': 2.6, 'unit': 'g'}   \n",
       "35          Soy milk, chocolate  {'Amount': 2.26, 'unit': 'g'}   \n",
       "38       Almond milk, sweetened  {'Amount': 0.38, 'unit': 'g'}   \n",
       "\n",
       "                              Energy    Carbohydrate, by difference  \\\n",
       "0   {'Amount': 70.0, 'unit': 'kcal'}  {'Amount': 6.89, 'unit': 'g'}   \n",
       "16  {'Amount': 40.0, 'unit': 'kcal'}  {'Amount': 4.79, 'unit': 'g'}   \n",
       "32  {'Amount': 43.0, 'unit': 'kcal'}  {'Amount': 4.92, 'unit': 'g'}   \n",
       "35  {'Amount': 63.0, 'unit': 'kcal'}  {'Amount': 9.95, 'unit': 'g'}   \n",
       "38  {'Amount': 30.0, 'unit': 'kcal'}  {'Amount': 5.24, 'unit': 'g'}   \n",
       "\n",
       "                Total lipid (fat)  \\\n",
       "0   {'Amount': 4.38, 'unit': 'g'}   \n",
       "16  {'Amount': 1.07, 'unit': 'g'}   \n",
       "32  {'Amount': 1.47, 'unit': 'g'}   \n",
       "35  {'Amount': 1.53, 'unit': 'g'}   \n",
       "38  {'Amount': 0.93, 'unit': 'g'}   \n",
       "\n",
       "                                         foodPortions          name clean  \n",
       "0   [{'gramWeight': 246, 'portionDescription': '1 ...                milk  \n",
       "16  [{'gramWeight': 244, 'portionDescription': '1 ...          buttermilk  \n",
       "32  [{'gramWeight': 244, 'portionDescription': '1 ...            soy milk  \n",
       "35  [{'gramWeight': 244, 'portionDescription': '1 ...  soy milk chocolate  \n",
       "38  [{'gramWeight': 244, 'portionDescription': '1 ...         almond milk  "
      ]
     },
     "execution_count": 46,
     "metadata": {},
     "output_type": "execute_result"
    }
   ],
   "source": [
    "nutrients_clean = nutrients_clean[nutrients_clean['name clean'] != \"\"]\n",
    "nutrients_clean.head()"
   ]
  },
  {
   "cell_type": "code",
   "execution_count": null,
   "id": "428298ec-32f4-4d9a-a420-9c4159f72cf3",
   "metadata": {},
   "outputs": [],
   "source": [
    "nutrients = nutrients_clean[[]]"
   ]
  },
  {
   "cell_type": "code",
   "execution_count": null,
   "id": "25f79209-6313-4de5-b2ba-7b1d8c9e114a",
   "metadata": {},
   "outputs": [],
   "source": [
    "\n",
    "\n",
    "def clean_foodcentral_for_matching():\n",
    "    try:\n",
    "        os.remove(\"foodcentral_clean.json\")\n",
    "    except OSError:\n",
    "        pass\n",
    "\n",
    "    foodcentral = read_json(\"foodcentral.json\")\n",
    "    \n",
    "    data = {}\n",
    "    \n",
    "    for ingridient in tqdm(foodcentral[\"SurveyFoods\"], desc=\"Cleaning foodcentral data\"):\n",
    "        portions = []\n",
    "        \n",
    "        for portion in ingridient[\"foodPortions\"]:\n",
    "            if portion[\"portionDescription\"] != \"\" and portion[\"portionDescription\"] != \"Quantity not specified\":\n",
    "                portion_data = {}\n",
    "                portion_data[\"gram_weight\"] = portion[\"gramWeight\"]\n",
    "                portion_data[\"description\"] = name_clean_quantity(portion[\"portionDescription\"])\n",
    "                portions.append(portion_data)\n",
    "    \n",
    "        if portions:\n",
    "            description = name_clean(ingridient[\"description\"].lower().replace(r\",\", \"\").replace(r\"(\", \"\").replace(r\")\", \"\"))\n",
    "            \n",
    "            if description not in data.keys():\n",
    "                data[description] = portions\n",
    "            elif len(portions) > len(data[description]):\n",
    "                data[description] = portions\n",
    "                    \n",
    "    save_json(\"foodcentral_clean.json\", data)\n",
    "    \n",
    "    \n",
    "    "
   ]
  },
  {
   "cell_type": "code",
   "execution_count": null,
   "id": "973db22b-12f0-4e2c-8423-8e42943c3d33",
   "metadata": {},
   "outputs": [
    {
     "name": "stdout",
     "output_type": "stream",
     "text": [
      "Requirement already satisfied: nltk in /Library/Frameworks/Python.framework/Versions/3.10/lib/python3.10/site-packages (3.7)\n",
      "Requirement already satisfied: click in /Library/Frameworks/Python.framework/Versions/3.10/lib/python3.10/site-packages (from nltk) (8.1.3)\n",
      "Requirement already satisfied: tqdm in /Library/Frameworks/Python.framework/Versions/3.10/lib/python3.10/site-packages (from nltk) (4.64.0)\n",
      "Requirement already satisfied: regex>=2021.8.3 in /Library/Frameworks/Python.framework/Versions/3.10/lib/python3.10/site-packages (from nltk) (2022.6.2)\n",
      "Requirement already satisfied: joblib in /Library/Frameworks/Python.framework/Versions/3.10/lib/python3.10/site-packages (from nltk) (1.1.0)\n",
      "\u001b[33mWARNING: There was an error checking the latest version of pip.\u001b[0m\u001b[33m\n",
      "\u001b[0m"
     ]
    }
   ],
   "source": [
    "!pip install --upgrade nltk"
   ]
  },
  {
   "cell_type": "code",
   "execution_count": null,
   "id": "a1d2f8b0-bd6b-4a14-89b7-9d3fa6dc3d9c",
   "metadata": {},
   "outputs": [
    {
     "name": "stdout",
     "output_type": "stream",
     "text": [
      "tomato chili sauce\n"
     ]
    }
   ],
   "source": [
    "from re import search\n",
    "\n",
    "for k in keys1:\n",
    "    if search(\"chili sauce\", k):\n",
    "        print(k)"
   ]
  },
  {
   "cell_type": "code",
   "execution_count": null,
   "id": "e8d072f3-35ce-4143-abb0-de2b771ef9a2",
   "metadata": {},
   "outputs": [],
   "source": [
    "# data1 = json.load(d1)\n"
   ]
  },
  {
   "cell_type": "code",
   "execution_count": null,
   "id": "901382c2-2121-4a5e-8428-cf80c1e8fd1f",
   "metadata": {},
   "outputs": [],
   "source": []
  },
  {
   "cell_type": "code",
   "execution_count": null,
   "id": "70d43d12-8613-4fa2-970f-56ee5a5e8ff2",
   "metadata": {},
   "outputs": [
    {
     "name": "stdout",
     "output_type": "stream",
     "text": [
      "13351\n",
      "['' \"'\" \"' n\" ... 'zucchini squash' 'zucchini tomato sauce'\n",
      " 'zwieback toast']\n"
     ]
    }
   ],
   "source": [
    "d = open('matched_names.json')\n",
    "data = json.load(d)\n",
    "keys = [key for (key, value) in data.items()]\n",
    "\n",
    "vals = [value for (key, value) in data.items()]\n",
    "keys = [key for (key, value) in data.items()]\n",
    "\n",
    "print(len(keys))\n",
    "print(np.sort(keys))"
   ]
  },
  {
   "cell_type": "code",
   "execution_count": null,
   "id": "def92fba-a3de-48d7-b920-eeaa8c358d08",
   "metadata": {},
   "outputs": [
    {
     "name": "stdout",
     "output_type": "stream",
     "text": [
      "['100 grand bar' '3 musketeers bar' '3 musketeers truffle crisp bar' ...\n",
      " 'zucchini pickled' 'zucchini soup cream of prepared with milk'\n",
      " 'zwieback toast']\n"
     ]
    }
   ],
   "source": [
    "print(np.sort(nutrients_list))"
   ]
  },
  {
   "cell_type": "code",
   "execution_count": null,
   "id": "797ba9e2-1dfe-43f2-ba37-7e1f776db74a",
   "metadata": {},
   "outputs": [],
   "source": []
  }
 ],
 "metadata": {
  "kernelspec": {
   "display_name": "Python 3 (ipykernel)",
   "language": "python",
   "name": "python3"
  },
  "language_info": {
   "codemirror_mode": {
    "name": "ipython",
    "version": 3
   },
   "file_extension": ".py",
   "mimetype": "text/x-python",
   "name": "python",
   "nbconvert_exporter": "python",
   "pygments_lexer": "ipython3",
   "version": "3.10.5"
  }
 },
 "nbformat": 4,
 "nbformat_minor": 5
}
